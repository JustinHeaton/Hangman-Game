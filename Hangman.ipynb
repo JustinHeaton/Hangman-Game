{
 "cells": [
  {
   "cell_type": "markdown",
   "metadata": {},
   "source": [
    "# Welcome to Hangman!\n",
    "###  By Justin Heaton\n",
    "\n",
    "Run the following code cell to play the game, or scroll down for instructions (coming soon)."
   ]
  },
  {
   "cell_type": "code",
   "execution_count": null,
   "metadata": {},
   "outputs": [],
   "source": [
    "from hangman.game import HangmanGame\n",
    "from hangman.image import HangmanImage\n",
    "from hangman.history import History\n",
    "from hangman.app import App\n",
    "\n",
    "app = App(HangmanGame(), HangmanImage(), History(), True)"
   ]
  },
  {
   "cell_type": "code",
   "execution_count": null,
   "metadata": {},
   "outputs": [],
   "source": []
  }
 ],
 "metadata": {
  "kernelspec": {
   "display_name": "Python 3",
   "language": "python",
   "name": "python3"
  },
  "language_info": {
   "codemirror_mode": {
    "name": "ipython",
    "version": 3
   },
   "file_extension": ".py",
   "mimetype": "text/x-python",
   "name": "python",
   "nbconvert_exporter": "python",
   "pygments_lexer": "ipython3",
   "version": "3.6.8"
  }
 },
 "nbformat": 4,
 "nbformat_minor": 2
}
